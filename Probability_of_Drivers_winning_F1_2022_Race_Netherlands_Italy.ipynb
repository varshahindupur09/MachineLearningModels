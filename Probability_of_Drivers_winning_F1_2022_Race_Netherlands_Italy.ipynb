{
  "cells": [
    {
      "cell_type": "markdown",
      "id": "4f6face2",
      "metadata": {
        "id": "4f6face2"
      },
      "source": [
        "F1!\n",
        "\n",
        "*Question 1:* The season is over and Max Verstappen won, again! But let's assume the season is not over and there are still two F1 races coming up: The Netherlands Grand Prix coming up this weekend and the Italian Grand Prix the weekend after.  \n",
        "\n",
        "PART 1. Given these standings (please do not use team standings given on the same Web site, use driver standings), what is the Probability Distribution for each F1 driver to win the Netherlands Grand Prix?\n",
        "\n",
        "*PART 2:* What is the Probability Distribution for each F1 driver to win both the Netherlands and Italian Grand Prix?\n",
        "\n",
        "*PART 3:* What is the probability for Red Bull to win both races?\n",
        "\n",
        "*PART 4: What is the probability for Red Bull to win at least one race? Note that Red Bull, and each other racing team, has two drivers per race.\n",
        "\n",
        "Question 2: If Red Bull wins the first race, what is the probability that Red Bull wins the next one? If Red Bull wins at least one of these two races, what is the probability Red Bull wins both races? How about Ferrari, Mercedes, and Alpine-Renault?\n",
        "\n",
        "Question 3: Red Bull wins one of these two races on a rainy day. What is the probability Red Bull wins both races, assuming races can be held on either rainy, sunny, cloudy, snowy or foggy days? Assume that rain, sun, clouds, snow, and fog are the only possible weather conditions on race tracks and there is an equal probability for each one of these weather events.\n",
        "\n",
        "Question 4: After the races, there is always a media blitz! Knowing that everyone has a favorite F1 driver, fashion brands pay F1 drivers to be their ambassadors. Let's assume that brands combine to organize one hundred fashion shows every season and that each retired or active F1 driver is under contract to attend exactly one fashion show every season in order to wear a fashion brand's clothes and to represent the brand (e.g. Gucci). For the sake of simplicity let's also assume that there are exactly 100 F1 retired and active driveres. If you go to a fashion show, what is the probability you will see your favorite driver (e.g. Lewis Hamilton)? What is the probability you will see a Formula 1 driver? How many fashion shows do you need to attend per season to have at least a 50% chance to share a cocktail with a Formula 1 driver?\n"
      ]
    },
    {
      "cell_type": "markdown",
      "id": "cd61fb5f",
      "metadata": {
        "id": "cd61fb5f"
      },
      "source": [
        "Objects are dictionaries. Self is an object and we are updating it so we can input more than one values."
      ]
    },
    {
      "cell_type": "code",
      "execution_count": null,
      "id": "41e74384",
      "metadata": {
        "id": "41e74384"
      },
      "outputs": [],
      "source": [
        "from fractions import Fraction\n",
        "class ProbDist(dict):\n",
        "    \"\"\"A Probability Distribution; an {outcome: probability} mapping.\"\"\"\n",
        "    def __init__(self, mapping=(), **kwargs):\n",
        "        self.update(mapping, **kwargs)\n",
        "        # Make probabilities sum to 1.0; assert no negative probabilities\n",
        "        total = sum(self.values())\n",
        "        for outcome in self:\n",
        "            self[outcome] = self[outcome] / total\n",
        "            assert self[outcome] >= 0"
      ]
    },
    {
      "cell_type": "code",
      "execution_count": null,
      "id": "d393d1ce",
      "metadata": {
        "id": "d393d1ce"
      },
      "outputs": [],
      "source": [
        "def p(event, space):\n",
        "    \"\"\"The probability of an event, given a sample space of equiprobable outcomes.\n",
        "    event: a collection of outcomes, or a predicate that is true of outcomes in the event.\n",
        "    space: a set of outcomes or a probability distribution of {outcome: frequency} pairs.\"\"\"\n",
        "    # branch on the type of the first argument\n",
        "    if is_predicate(event):\n",
        "        # transform the mapping (untangible) 'event' into the collection (tangible) 'event'\n",
        "        event = such_that(event, space)\n",
        "\n",
        "    if isinstance(space, ProbDist):\n",
        "        # if space is a dictionary of distinct probabilities, where each item does not count as the same amount\n",
        "        return sum(space[k] for k in space if k in event)\n",
        "    else:\n",
        "        # space is not a dictionary but a collection, let's fall back to our original division\n",
        "        return Fraction(len(event & space), len(space))\n",
        "\n",
        "is_predicate = callable\n",
        "\n",
        "def such_that(predicate, space):\n",
        "    \"\"\"The outcomes in the sample pace for which the predicate is true.\n",
        "    If space is a set, return a subset {outcome,...} with outcomes where predicate(element) is true;\n",
        "    if space is a ProbDist, return a ProbDist {outcome: frequency,...} with outcomes where predicate(element) is true.\"\"\"\n",
        "    if isinstance(space, ProbDist):\n",
        "        # print(ProbDist({o:space[o] for o in space if predicate(o)}))\n",
        "        return ProbDist({o:space[o] for o in space if predicate(o)})\n",
        "    else:\n",
        "        return {o for o in space if predicate(o)}"
      ]
    },
    {
      "cell_type": "markdown",
      "id": "297dcfef",
      "metadata": {
        "id": "297dcfef"
      },
      "source": [
        "ANSWER 1 :\n",
        "\n",
        "    Probability Distribution for each player to win the Netherlands Grand Prix :"
      ]
    },
    {
      "cell_type": "markdown",
      "id": "bbfda4d3",
      "metadata": {
        "id": "bbfda4d3"
      },
      "source": [
        "Link for driver standings:\n",
        "    https://www.formula1.com/en/results.html/2022/drivers.html"
      ]
    },
    {
      "cell_type": "code",
      "execution_count": null,
      "id": "fa6628f1",
      "metadata": {
        "id": "fa6628f1",
        "outputId": "6989c7cc-d025-4670-8c3f-de33f87ae88b"
      },
      "outputs": [
        {
          "data": {
            "text/plain": [
              "{'MV': 0.1889196675900277,\n",
              " 'CL': 0.13130193905817175,\n",
              " 'SP': 0.13019390581717452,\n",
              " 'GR': 0.11246537396121883,\n",
              " 'CS': 0.11191135734072022,\n",
              " 'LH': 0.09418282548476455,\n",
              " 'LN': 0.055401662049861494,\n",
              " 'EO': 0.03656509695290859,\n",
              " 'FA': 0.032686980609418284,\n",
              " 'VB': 0.02548476454293629,\n",
              " 'DR': 0.016066481994459834,\n",
              " 'SV': 0.013296398891966758,\n",
              " 'PG': 0.012742382271468145,\n",
              " 'KM': 0.01218836565096953,\n",
              " 'LS': 0.007202216066481994,\n",
              " 'MS': 0.006648199445983379,\n",
              " 'YT': 0.006094182825484765,\n",
              " 'ZG': 0.0033240997229916896,\n",
              " 'AA': 0.00221606648199446,\n",
              " 'NV': 0.00110803324099723,\n",
              " 'NL': 0.0,\n",
              " 'NH': 0.0}"
            ]
          },
          "execution_count": 10,
          "metadata": {},
          "output_type": "execute_result"
        }
      ],
      "source": [
        "NGP = ProbDist(\n",
        "     MV = 341,\n",
        "    CL = 237,\n",
        "    SP = 235,\n",
        "    GR = 203,\n",
        "    CS = 202,\n",
        "    LH = 170,\n",
        "    LN = 100,\n",
        "    EO = 66,\n",
        "    FA = 59,\n",
        "    VB = 46,\n",
        "    DR = 29,\n",
        "    SV = 24,\n",
        "    PG = 23,\n",
        "    KM = 22,\n",
        "    LS = 13,\n",
        "    MS = 12,\n",
        "    YT = 11,\n",
        "    ZG = 6,\n",
        "    AA = 4,\n",
        "    NV = 2,\n",
        "    NL = 0,\n",
        "    NH = 0)\n",
        "NGP"
      ]
    },
    {
      "cell_type": "markdown",
      "id": "42fa2b9e",
      "metadata": {
        "id": "42fa2b9e"
      },
      "source": [
        "    Assuming Probability Distribution for Italian Grand Prix (IGP) is same as for Netherlands Grand Prix (NGP)"
      ]
    },
    {
      "cell_type": "code",
      "execution_count": null,
      "id": "f2626eaf",
      "metadata": {
        "id": "f2626eaf"
      },
      "outputs": [],
      "source": [
        "IGP = NGP"
      ]
    },
    {
      "cell_type": "markdown",
      "id": "97d1c85d",
      "metadata": {
        "id": "97d1c85d"
      },
      "source": [
        "What is the Probability Distribution for each F1 driver to win both the Netherlands and Italian Grand Prix?"
      ]
    },
    {
      "cell_type": "code",
      "execution_count": null,
      "id": "020b5c8f",
      "metadata": {
        "id": "020b5c8f",
        "outputId": "6ba0f4a4-7685-4414-b530-f7437bd3d6e5"
      },
      "outputs": [
        {
          "data": {
            "text/plain": [
              "{'MV': 0.03569064080232656,\n",
              " 'CL': 0.01724019920043585,\n",
              " 'SP': 0.01695045311193131,\n",
              " 'GR': 0.012648460340236799,\n",
              " 'CS': 0.012524151901842374,\n",
              " 'LH': 0.008870404616293614,\n",
              " 'LN': 0.003069344157887063,\n",
              " 'EO': 0.0013370063151756052,\n",
              " 'FA': 0.001068438701360487,\n",
              " 'VB': 0.0006494732238089027,\n",
              " 'DR': 0.00025813184367830206,\n",
              " 'SV': 0.00017679422349429485,\n",
              " 'PG': 0.0001623683059522257,\n",
              " 'KM': 0.00014855625724173387,\n",
              " 'LS': 5.1871916268291375e-05,\n",
              " 'MS': 4.419855587357371e-05,\n",
              " 'YT': 3.713906431043347e-05,\n",
              " 'ZG': 1.1049638968393428e-05,\n",
              " 'AA': 4.910950652619302e-06,\n",
              " 'NV': 1.2277376631548256e-06,\n",
              " 'NL': 0.0,\n",
              " 'NH': 0.0}"
            ]
          },
          "execution_count": 12,
          "metadata": {},
          "output_type": "execute_result"
        }
      ],
      "source": [
        "def squaring(x): return x**2.0\n",
        "\n",
        "NGP_IGP_F1_Driver_Each_Win = {k:squaring(v) for k,v in NGP.items()}\n",
        "\n",
        "NGP_IGP_F1_Driver_Each_Win"
      ]
    },
    {
      "cell_type": "code",
      "execution_count": null,
      "id": "2275642b",
      "metadata": {
        "id": "2275642b",
        "outputId": "a9a61ba9-1de0-4002-9925-b4f2f516ebbb"
      },
      "outputs": [
        {
          "data": {
            "text/plain": [
              "{'MV': 0.03569064080232656,\n",
              " 'CL': 0.01724019920043585,\n",
              " 'SP': 0.01695045311193131,\n",
              " 'GR': 0.012648460340236799,\n",
              " 'CS': 0.012524151901842374,\n",
              " 'LH': 0.008870404616293614,\n",
              " 'LN': 0.003069344157887063,\n",
              " 'EO': 0.0013370063151756052,\n",
              " 'FA': 0.001068438701360487,\n",
              " 'VB': 0.0006494732238089027,\n",
              " 'DR': 0.00025813184367830206,\n",
              " 'SV': 0.00017679422349429485,\n",
              " 'PG': 0.0001623683059522257,\n",
              " 'KM': 0.00014855625724173387,\n",
              " 'LS': 5.1871916268291375e-05,\n",
              " 'MS': 4.419855587357371e-05,\n",
              " 'YT': 3.713906431043347e-05,\n",
              " 'ZG': 1.1049638968393428e-05,\n",
              " 'AA': 4.910950652619302e-06,\n",
              " 'NV': 1.2277376631548256e-06,\n",
              " 'NL': 0.0,\n",
              " 'NH': 0.0}"
            ]
          },
          "execution_count": 13,
          "metadata": {},
          "output_type": "execute_result"
        }
      ],
      "source": [
        "# using lambda function to solve above\n",
        "\n",
        "each_F1_driver_wining_both = {k: (lambda x: x ** 2.0)(v) for k,v in NGP.items()}\n",
        "\n",
        "each_F1_driver_wining_both"
      ]
    },
    {
      "cell_type": "markdown",
      "id": "0cd38303",
      "metadata": {
        "id": "0cd38303"
      },
      "source": [
        "    Probability Distribution for the 2 races :\n",
        "    \n",
        "    (Using probability to solve above )\n",
        "  "
      ]
    },
    {
      "cell_type": "code",
      "execution_count": null,
      "id": "9710f618",
      "metadata": {
        "id": "9710f618",
        "outputId": "ffaaeace-6837-4e73-ca08-28896448f418"
      },
      "outputs": [
        {
          "data": {
            "text/plain": [
              "{'MVMV': 0.03569064080232656,\n",
              " 'MVCL': 0.024805518680795884,\n",
              " 'MVSP': 0.024596189409227986,\n",
              " 'MVGR': 0.02124692106414162,\n",
              " 'MVCS': 0.02114225642835767,\n",
              " 'MVLH': 0.01779298808327131,\n",
              " 'MVLN': 0.010466463578394886,\n",
              " 'MVEO': 0.0069078659617406255,\n",
              " 'MVFA': 0.006175213511252983,\n",
              " 'MVVB': 0.004814573246061648,\n",
              " 'MVDR': 0.003035274437734517,\n",
              " 'MVSV': 0.0025119512588147727,\n",
              " 'MVPG': 0.002407286623030824,\n",
              " 'MVKM': 0.0023026219872468753,\n",
              " 'MVLS': 0.0013606402651913352,\n",
              " 'MVMS': 0.0012559756294073863,\n",
              " 'MVYT': 0.0011513109936234377,\n",
              " 'MVZG': 0.0006279878147036932,\n",
              " 'MVAA': 0.0004186585431357955,\n",
              " 'MVNV': 0.00020932927156789774,\n",
              " 'MVNL': 0.0,\n",
              " 'MVNH': 0.0,\n",
              " 'CLMV': 0.024805518680795884,\n",
              " 'CLCL': 0.01724019920043585,\n",
              " 'CLSP': 0.017094712287352,\n",
              " 'CLGR': 0.014766921678010452,\n",
              " 'CLCS': 0.014694178221468528,\n",
              " 'CLLH': 0.01236638761212698,\n",
              " 'CLLN': 0.007274345654192341,\n",
              " 'CLEO': 0.004801068131766946,\n",
              " 'CLFA': 0.004291863935973481,\n",
              " 'CLVB': 0.003346199000928477,\n",
              " 'CLDR': 0.002109560239715779,\n",
              " 'CLSV': 0.0017458429570061617,\n",
              " 'CLPG': 0.0016730995004642386,\n",
              " 'CLKM': 0.001600356043922315,\n",
              " 'CLLS': 0.0009456649350450043,\n",
              " 'CLMS': 0.0008729214785030808,\n",
              " 'CLYT': 0.0008001780219611575,\n",
              " 'CLZG': 0.0004364607392515404,\n",
              " 'CLAA': 0.00029097382616769365,\n",
              " 'CLNV': 0.00014548691308384682,\n",
              " 'CLNL': 0.0,\n",
              " 'CLNH': 0.0,\n",
              " 'SPMV': 0.024596189409227986,\n",
              " 'SPCL': 0.017094712287352,\n",
              " 'SPSP': 0.01695045311193131,\n",
              " 'SPGR': 0.014642306305200237,\n",
              " 'SPCS': 0.014570176717489891,\n",
              " 'SPLH': 0.01226202991075882,\n",
              " 'SPLN': 0.007212958771034599,\n",
              " 'SPEO': 0.004760552788882836,\n",
              " 'SPFA': 0.004255645674910414,\n",
              " 'SPVB': 0.003317961034675916,\n",
              " 'SPDR': 0.0020917580436000337,\n",
              " 'SPSV': 0.0017311101050483037,\n",
              " 'SPPG': 0.001658980517337958,\n",
              " 'SPKM': 0.001586850929627612,\n",
              " 'SPLS': 0.000937684640234498,\n",
              " 'SPMS': 0.0008655550525241519,\n",
              " 'SPYT': 0.000793425464813806,\n",
              " 'SPZG': 0.00043277752626207593,\n",
              " 'SPAA': 0.000288518350841384,\n",
              " 'SPNV': 0.000144259175420692,\n",
              " 'SPNL': 0.0,\n",
              " 'SPNH': 0.0,\n",
              " 'GRMV': 0.02124692106414162,\n",
              " 'GRCL': 0.014766921678010452,\n",
              " 'GRSP': 0.014642306305200237,\n",
              " 'GRGR': 0.012648460340236799,\n",
              " 'GRCS': 0.012586152653831692,\n",
              " 'GRLH': 0.010592306688868257,\n",
              " 'GRLN': 0.0062307686405107384,\n",
              " 'GREO': 0.004112307302737088,\n",
              " 'GRFA': 0.003676153497901336,\n",
              " 'GRVB': 0.00286615357463494,\n",
              " 'GRDR': 0.0018069229057481144,\n",
              " 'GRSV': 0.0014953844737225772,\n",
              " 'GRPG': 0.00143307678731747,\n",
              " 'GRKM': 0.0013707691009123626,\n",
              " 'GRLS': 0.000809999923266396,\n",
              " 'GRMS': 0.0007476922368612886,\n",
              " 'GRYT': 0.0006853845504561813,\n",
              " 'GRZG': 0.0003738461184306443,\n",
              " 'GRAA': 0.00024923074562042957,\n",
              " 'GRNV': 0.00012461537281021479,\n",
              " 'GRNL': 0.0,\n",
              " 'GRNH': 0.0,\n",
              " 'CSMV': 0.02114225642835767,\n",
              " 'CSCL': 0.014694178221468528,\n",
              " 'CSSP': 0.014570176717489891,\n",
              " 'CSGR': 0.012586152653831692,\n",
              " 'CSCS': 0.012524151901842374,\n",
              " 'CSLH': 0.010540127838184176,\n",
              " 'CSLN': 0.006200075198931868,\n",
              " 'CSEO': 0.004092049631295033,\n",
              " 'CSFA': 0.003658044367369802,\n",
              " 'CSVB': 0.0028520345915086596,\n",
              " 'CSDR': 0.0017980218076902419,\n",
              " 'CSSV': 0.0014880180477436483,\n",
              " 'CSPG': 0.0014260172957543298,\n",
              " 'CSKM': 0.0013640165437650111,\n",
              " 'CSLS': 0.0008060097758611428,\n",
              " 'CSMS': 0.0007440090238718241,\n",
              " 'CSYT': 0.0006820082718825056,\n",
              " 'CSZG': 0.00037200451193591206,\n",
              " 'CSAA': 0.00024800300795727476,\n",
              " 'CSNV': 0.00012400150397863738,\n",
              " 'CSNL': 0.0,\n",
              " 'CSNH': 0.0,\n",
              " 'LHMV': 0.01779298808327131,\n",
              " 'LHCL': 0.01236638761212698,\n",
              " 'LHSP': 0.01226202991075882,\n",
              " 'LHGR': 0.010592306688868257,\n",
              " 'LHCS': 0.010540127838184176,\n",
              " 'LHLH': 0.008870404616293614,\n",
              " 'LHLN': 0.005217885068408008,\n",
              " 'LHEO': 0.0034438041451492858,\n",
              " 'LHFA': 0.003078552190360725,\n",
              " 'LHVB': 0.002400227131467684,\n",
              " 'LHDR': 0.0015131866698383223,\n",
              " 'LHSV': 0.001252292416417922,\n",
              " 'LHPG': 0.001200113565733842,\n",
              " 'LHKM': 0.0011479347150497618,\n",
              " 'LHLS': 0.0006783250588930411,\n",
              " 'LHMS': 0.000626146208208961,\n",
              " 'LHYT': 0.0005739673575248809,\n",
              " 'LHZG': 0.0003130731041044805,\n",
              " 'LHAA': 0.00020871540273632034,\n",
              " 'LHNV': 0.00010435770136816017,\n",
              " 'LHNL': 0.0,\n",
              " 'LHNH': 0.0,\n",
              " 'LNMV': 0.010466463578394886,\n",
              " 'LNCL': 0.007274345654192341,\n",
              " 'LNSP': 0.007212958771034599,\n",
              " 'LNGR': 0.0062307686405107384,\n",
              " 'LNCS': 0.006200075198931868,\n",
              " 'LNLH': 0.005217885068408008,\n",
              " 'LNLN': 0.003069344157887063,\n",
              " 'LNEO': 0.002025767144205462,\n",
              " 'LNFA': 0.0018109130531533675,\n",
              " 'LNVB': 0.0014118983126280493,\n",
              " 'LNDR': 0.0008901098057872484,\n",
              " 'LNSV': 0.0007366425978928952,\n",
              " 'LNPG': 0.0007059491563140246,\n",
              " 'LNKM': 0.000675255714735154,\n",
              " 'LNLS': 0.00039901474052531826,\n",
              " 'LNMS': 0.0003683212989464476,\n",
              " 'LNYT': 0.000337627857367577,\n",
              " 'LNZG': 0.0001841606494732238,\n",
              " 'LNAA': 0.00012277376631548254,\n",
              " 'LNNV': 6.138688315774127e-05,\n",
              " 'LNNL': 0.0,\n",
              " 'LNNH': 0.0,\n",
              " 'EOMV': 0.0069078659617406255,\n",
              " 'EOCL': 0.004801068131766946,\n",
              " 'EOSP': 0.004760552788882836,\n",
              " 'EOGR': 0.004112307302737088,\n",
              " 'EOCS': 0.004092049631295033,\n",
              " 'EOLH': 0.0034438041451492858,\n",
              " 'EOLN': 0.002025767144205462,\n",
              " 'EOEO': 0.0013370063151756052,\n",
              " 'EOFA': 0.0011952026150812227,\n",
              " 'EOVB': 0.0009318528863345127,\n",
              " 'EODR': 0.0005874724718195841,\n",
              " 'EOSV': 0.0004861841146093109,\n",
              " 'EOPG': 0.00046592644316725633,\n",
              " 'EOKM': 0.0004456687717252017,\n",
              " 'EOLS': 0.0002633497287467101,\n",
              " 'EOMS': 0.00024309205730465544,\n",
              " 'EOYT': 0.00022283438586260084,\n",
              " 'EOZG': 0.00012154602865232772,\n",
              " 'EOAA': 8.103068576821849e-05,\n",
              " 'EONV': 4.051534288410924e-05,\n",
              " 'EONL': 0.0,\n",
              " 'EONH': 0.0,\n",
              " 'FAMV': 0.006175213511252983,\n",
              " 'FACL': 0.004291863935973481,\n",
              " 'FASP': 0.004255645674910414,\n",
              " 'FAGR': 0.003676153497901336,\n",
              " 'FACS': 0.003658044367369802,\n",
              " 'FALH': 0.003078552190360725,\n",
              " 'FALN': 0.0018109130531533675,\n",
              " 'FAEO': 0.0011952026150812227,\n",
              " 'FAFA': 0.001068438701360487,\n",
              " 'FAVB': 0.0008330200044505492,\n",
              " 'FADR': 0.0005251647854144766,\n",
              " 'FASV': 0.00043461913275680817,\n",
              " 'FAPG': 0.0004165100022252746,\n",
              " 'FAKM': 0.0003984008716937409,\n",
              " 'FALS': 0.0002354186969099378,\n",
              " 'FAMS': 0.00021730956637840409,\n",
              " 'FAYT': 0.00019920043584687044,\n",
              " 'FAZG': 0.00010865478318920204,\n",
              " 'FAAA': 7.243652212613471e-05,\n",
              " 'FANV': 3.6218261063067354e-05,\n",
              " 'FANL': 0.0,\n",
              " 'FANH': 0.0,\n",
              " 'VBMV': 0.004814573246061648,\n",
              " 'VBCL': 0.003346199000928477,\n",
              " 'VBSP': 0.003317961034675916,\n",
              " 'VBGR': 0.00286615357463494,\n",
              " 'VBCS': 0.0028520345915086596,\n",
              " 'VBLH': 0.002400227131467684,\n",
              " 'VBLN': 0.0014118983126280493,\n",
              " 'VBEO': 0.0009318528863345127,\n",
              " 'VBFA': 0.0008330200044505492,\n",
              " 'VBVB': 0.0006494732238089027,\n",
              " 'VBDR': 0.00040945051066213433,\n",
              " 'VBSV': 0.0003388555950307318,\n",
              " 'VBPG': 0.0003247366119044514,\n",
              " 'VBKM': 0.00031061762877817087,\n",
              " 'VBLS': 0.0001835467806416464,\n",
              " 'VBMS': 0.0001694277975153659,\n",
              " 'VBYT': 0.00015530881438908544,\n",
              " 'VBZG': 8.471389875768296e-05,\n",
              " 'VBAA': 5.647593250512198e-05,\n",
              " 'VBNV': 2.823796625256099e-05,\n",
              " 'VBNL': 0.0,\n",
              " 'VBNH': 0.0,\n",
              " 'DRMV': 0.003035274437734517,\n",
              " 'DRCL': 0.002109560239715779,\n",
              " 'DRSP': 0.0020917580436000337,\n",
              " 'DRGR': 0.0018069229057481144,\n",
              " 'DRCS': 0.0017980218076902419,\n",
              " 'DRLH': 0.0015131866698383223,\n",
              " 'DRLN': 0.0008901098057872484,\n",
              " 'DREO': 0.0005874724718195841,\n",
              " 'DRFA': 0.0005251647854144766,\n",
              " 'DRVB': 0.00040945051066213433,\n",
              " 'DRDR': 0.00025813184367830206,\n",
              " 'DRSV': 0.00021362635338893963,\n",
              " 'DRPG': 0.00020472525533106716,\n",
              " 'DRKM': 0.00019582415727319467,\n",
              " 'DRLS': 0.0001157142747523423,\n",
              " 'DRMS': 0.00010681317669446981,\n",
              " 'DRYT': 9.791207863659734e-05,\n",
              " 'DRZG': 5.340658834723491e-05,\n",
              " 'DRAA': 3.560439223148994e-05,\n",
              " 'DRNV': 1.780219611574497e-05,\n",
              " 'DRNL': 0.0,\n",
              " 'DRNH': 0.0,\n",
              " 'SVMV': 0.0025119512588147727,\n",
              " 'SVCL': 0.0017458429570061617,\n",
              " 'SVSP': 0.0017311101050483037,\n",
              " 'SVGR': 0.0014953844737225772,\n",
              " 'SVCS': 0.0014880180477436483,\n",
              " 'SVLH': 0.001252292416417922,\n",
              " 'SVLN': 0.0007366425978928952,\n",
              " 'SVEO': 0.0004861841146093109,\n",
              " 'SVFA': 0.00043461913275680817,\n",
              " 'SVVB': 0.0003388555950307318,\n",
              " 'SVDR': 0.00021362635338893963,\n",
              " 'SVSV': 0.00017679422349429485,\n",
              " 'SVPG': 0.0001694277975153659,\n",
              " 'SVKM': 0.00016206137153643694,\n",
              " 'SVLS': 9.576353772607638e-05,\n",
              " 'SVMS': 8.839711174714742e-05,\n",
              " 'SVYT': 8.103068576821847e-05,\n",
              " 'SVZG': 4.419855587357371e-05,\n",
              " 'SVAA': 2.946570391571581e-05,\n",
              " 'SVNV': 1.4732851957857905e-05,\n",
              " 'SVNL': 0.0,\n",
              " 'SVNH': 0.0,\n",
              " 'PGMV': 0.002407286623030824,\n",
              " 'PGCL': 0.0016730995004642386,\n",
              " 'PGSP': 0.001658980517337958,\n",
              " 'PGGR': 0.00143307678731747,\n",
              " 'PGCS': 0.0014260172957543298,\n",
              " 'PGLH': 0.001200113565733842,\n",
              " 'PGLN': 0.0007059491563140246,\n",
              " 'PGEO': 0.00046592644316725633,\n",
              " 'PGFA': 0.0004165100022252746,\n",
              " 'PGVB': 0.0003247366119044514,\n",
              " 'PGDR': 0.00020472525533106716,\n",
              " 'PGSV': 0.0001694277975153659,\n",
              " 'PGPG': 0.0001623683059522257,\n",
              " 'PGKM': 0.00015530881438908544,\n",
              " 'PGLS': 9.17733903208232e-05,\n",
              " 'PGMS': 8.471389875768296e-05,\n",
              " 'PGYT': 7.765440719454272e-05,\n",
              " 'PGZG': 4.235694937884148e-05,\n",
              " 'PGAA': 2.823796625256099e-05,\n",
              " 'PGNV': 1.4118983126280495e-05,\n",
              " 'PGNL': 0.0,\n",
              " 'PGNH': 0.0,\n",
              " 'KMMV': 0.0023026219872468753,\n",
              " 'KMCL': 0.001600356043922315,\n",
              " 'KMSP': 0.001586850929627612,\n",
              " 'KMGR': 0.0013707691009123626,\n",
              " 'KMCS': 0.0013640165437650111,\n",
              " 'KMLH': 0.0011479347150497618,\n",
              " 'KMLN': 0.000675255714735154,\n",
              " 'KMEO': 0.0004456687717252017,\n",
              " 'KMFA': 0.0003984008716937409,\n",
              " 'KMVB': 0.00031061762877817087,\n",
              " 'KMDR': 0.00019582415727319467,\n",
              " 'KMSV': 0.00016206137153643694,\n",
              " 'KMPG': 0.00015530881438908544,\n",
              " 'KMKM': 0.00014855625724173387,\n",
              " 'KMLS': 8.778324291557002e-05,\n",
              " 'KMMS': 8.103068576821847e-05,\n",
              " 'KMYT': 7.427812862086694e-05,\n",
              " 'KMZG': 4.0515342884109236e-05,\n",
              " 'KMAA': 2.7010228589406163e-05,\n",
              " 'KMNV': 1.3505114294703081e-05,\n",
              " 'KMNL': 0.0,\n",
              " 'KMNH': 0.0,\n",
              " 'LSMV': 0.0013606402651913352,\n",
              " 'LSCL': 0.0009456649350450043,\n",
              " 'LSSP': 0.000937684640234498,\n",
              " 'LSGR': 0.000809999923266396,\n",
              " 'LSCS': 0.0008060097758611428,\n",
              " 'LSLH': 0.0006783250588930411,\n",
              " 'LSLN': 0.00039901474052531826,\n",
              " 'LSEO': 0.0002633497287467101,\n",
              " 'LSFA': 0.0002354186969099378,\n",
              " 'LSVB': 0.0001835467806416464,\n",
              " 'LSDR': 0.0001157142747523423,\n",
              " 'LSSV': 9.576353772607638e-05,\n",
              " 'LSPG': 9.17733903208232e-05,\n",
              " 'LSKM': 8.778324291557002e-05,\n",
              " 'LSLS': 5.1871916268291375e-05,\n",
              " 'LSMS': 4.788176886303819e-05,\n",
              " 'LSYT': 4.389162145778501e-05,\n",
              " 'LSZG': 2.3940884431519095e-05,\n",
              " 'LSAA': 1.596058962101273e-05,\n",
              " 'LSNV': 7.980294810506365e-06,\n",
              " 'LSNL': 0.0,\n",
              " 'LSNH': 0.0,\n",
              " 'MSMV': 0.0012559756294073863,\n",
              " 'MSCL': 0.0008729214785030808,\n",
              " 'MSSP': 0.0008655550525241519,\n",
              " 'MSGR': 0.0007476922368612886,\n",
              " 'MSCS': 0.0007440090238718241,\n",
              " 'MSLH': 0.000626146208208961,\n",
              " 'MSLN': 0.0003683212989464476,\n",
              " 'MSEO': 0.00024309205730465544,\n",
              " 'MSFA': 0.00021730956637840409,\n",
              " 'MSVB': 0.0001694277975153659,\n",
              " 'MSDR': 0.00010681317669446981,\n",
              " 'MSSV': 8.839711174714742e-05,\n",
              " 'MSPG': 8.471389875768296e-05,\n",
              " 'MSKM': 8.103068576821847e-05,\n",
              " 'MSLS': 4.788176886303819e-05,\n",
              " 'MSMS': 4.419855587357371e-05,\n",
              " 'MSYT': 4.0515342884109236e-05,\n",
              " 'MSZG': 2.2099277936786856e-05,\n",
              " 'MSAA': 1.4732851957857905e-05,\n",
              " 'MSNV': 7.366425978928952e-06,\n",
              " 'MSNL': 0.0,\n",
              " 'MSNH': 0.0,\n",
              " 'YTMV': 0.0011513109936234377,\n",
              " 'YTCL': 0.0008001780219611575,\n",
              " 'YTSP': 0.000793425464813806,\n",
              " 'YTGR': 0.0006853845504561813,\n",
              " 'YTCS': 0.0006820082718825056,\n",
              " 'YTLH': 0.0005739673575248809,\n",
              " 'YTLN': 0.000337627857367577,\n",
              " 'YTEO': 0.00022283438586260084,\n",
              " 'YTFA': 0.00019920043584687044,\n",
              " 'YTVB': 0.00015530881438908544,\n",
              " 'YTDR': 9.791207863659734e-05,\n",
              " 'YTSV': 8.103068576821847e-05,\n",
              " 'YTPG': 7.765440719454272e-05,\n",
              " 'YTKM': 7.427812862086694e-05,\n",
              " 'YTLS': 4.389162145778501e-05,\n",
              " 'YTMS': 4.0515342884109236e-05,\n",
              " 'YTYT': 3.713906431043347e-05,\n",
              " 'YTZG': 2.0257671442054618e-05,\n",
              " 'YTAA': 1.3505114294703081e-05,\n",
              " 'YTNV': 6.752557147351541e-06,\n",
              " 'YTNL': 0.0,\n",
              " 'YTNH': 0.0,\n",
              " 'ZGMV': 0.0006279878147036932,\n",
              " 'ZGCL': 0.0004364607392515404,\n",
              " 'ZGSP': 0.00043277752626207593,\n",
              " 'ZGGR': 0.0003738461184306443,\n",
              " 'ZGCS': 0.00037200451193591206,\n",
              " 'ZGLH': 0.0003130731041044805,\n",
              " 'ZGLN': 0.0001841606494732238,\n",
              " 'ZGEO': 0.00012154602865232772,\n",
              " 'ZGFA': 0.00010865478318920204,\n",
              " 'ZGVB': 8.471389875768296e-05,\n",
              " 'ZGDR': 5.340658834723491e-05,\n",
              " 'ZGSV': 4.419855587357371e-05,\n",
              " 'ZGPG': 4.235694937884148e-05,\n",
              " 'ZGKM': 4.0515342884109236e-05,\n",
              " 'ZGLS': 2.3940884431519095e-05,\n",
              " 'ZGMS': 2.2099277936786856e-05,\n",
              " 'ZGYT': 2.0257671442054618e-05,\n",
              " 'ZGZG': 1.1049638968393428e-05,\n",
              " 'ZGAA': 7.366425978928952e-06,\n",
              " 'ZGNV': 3.683212989464476e-06,\n",
              " 'ZGNL': 0.0,\n",
              " 'ZGNH': 0.0,\n",
              " 'AAMV': 0.0004186585431357955,\n",
              " 'AACL': 0.00029097382616769365,\n",
              " 'AASP': 0.000288518350841384,\n",
              " 'AAGR': 0.00024923074562042957,\n",
              " 'AACS': 0.00024800300795727476,\n",
              " 'AALH': 0.00020871540273632034,\n",
              " 'AALN': 0.00012277376631548254,\n",
              " 'AAEO': 8.103068576821849e-05,\n",
              " 'AAFA': 7.243652212613471e-05,\n",
              " 'AAVB': 5.647593250512198e-05,\n",
              " 'AADR': 3.560439223148994e-05,\n",
              " 'AASV': 2.946570391571581e-05,\n",
              " 'AAPG': 2.823796625256099e-05,\n",
              " 'AAKM': 2.7010228589406163e-05,\n",
              " 'AALS': 1.596058962101273e-05,\n",
              " 'AAMS': 1.4732851957857905e-05,\n",
              " 'AAYT': 1.3505114294703081e-05,\n",
              " 'AAZG': 7.366425978928952e-06,\n",
              " 'AAAA': 4.910950652619302e-06,\n",
              " 'AANV': 2.455475326309651e-06,\n",
              " 'AANL': 0.0,\n",
              " 'AANH': 0.0,\n",
              " 'NVMV': 0.00020932927156789774,\n",
              " 'NVCL': 0.00014548691308384682,\n",
              " 'NVSP': 0.000144259175420692,\n",
              " 'NVGR': 0.00012461537281021479,\n",
              " 'NVCS': 0.00012400150397863738,\n",
              " 'NVLH': 0.00010435770136816017,\n",
              " 'NVLN': 6.138688315774127e-05,\n",
              " 'NVEO': 4.051534288410924e-05,\n",
              " 'NVFA': 3.6218261063067354e-05,\n",
              " 'NVVB': 2.823796625256099e-05,\n",
              " 'NVDR': 1.780219611574497e-05,\n",
              " 'NVSV': 1.4732851957857905e-05,\n",
              " 'NVPG': 1.4118983126280495e-05,\n",
              " 'NVKM': 1.3505114294703081e-05,\n",
              " 'NVLS': 7.980294810506365e-06,\n",
              " 'NVMS': 7.366425978928952e-06,\n",
              " 'NVYT': 6.752557147351541e-06,\n",
              " 'NVZG': 3.683212989464476e-06,\n",
              " 'NVAA': 2.455475326309651e-06,\n",
              " 'NVNV': 1.2277376631548256e-06,\n",
              " 'NVNL': 0.0,\n",
              " 'NVNH': 0.0,\n",
              " 'NLMV': 0.0,\n",
              " 'NLCL': 0.0,\n",
              " 'NLSP': 0.0,\n",
              " 'NLGR': 0.0,\n",
              " 'NLCS': 0.0,\n",
              " 'NLLH': 0.0,\n",
              " 'NLLN': 0.0,\n",
              " 'NLEO': 0.0,\n",
              " 'NLFA': 0.0,\n",
              " 'NLVB': 0.0,\n",
              " 'NLDR': 0.0,\n",
              " 'NLSV': 0.0,\n",
              " 'NLPG': 0.0,\n",
              " 'NLKM': 0.0,\n",
              " 'NLLS': 0.0,\n",
              " 'NLMS': 0.0,\n",
              " 'NLYT': 0.0,\n",
              " 'NLZG': 0.0,\n",
              " 'NLAA': 0.0,\n",
              " 'NLNV': 0.0,\n",
              " 'NLNL': 0.0,\n",
              " 'NLNH': 0.0,\n",
              " 'NHMV': 0.0,\n",
              " 'NHCL': 0.0,\n",
              " 'NHSP': 0.0,\n",
              " 'NHGR': 0.0,\n",
              " 'NHCS': 0.0,\n",
              " 'NHLH': 0.0,\n",
              " 'NHLN': 0.0,\n",
              " 'NHEO': 0.0,\n",
              " 'NHFA': 0.0,\n",
              " 'NHVB': 0.0,\n",
              " 'NHDR': 0.0,\n",
              " 'NHSV': 0.0,\n",
              " 'NHPG': 0.0,\n",
              " 'NHKM': 0.0,\n",
              " 'NHLS': 0.0,\n",
              " 'NHMS': 0.0,\n",
              " 'NHYT': 0.0,\n",
              " 'NHZG': 0.0,\n",
              " 'NHAA': 0.0,\n",
              " 'NHNV': 0.0,\n",
              " 'NHNL': 0.0,\n",
              " 'NHNH': 0.0}"
            ]
          },
          "execution_count": 14,
          "metadata": {},
          "output_type": "execute_result"
        }
      ],
      "source": [
        "NGPIGP = ProbDist({a + b : NGP[a] * IGP[b] for a in NGP for b in IGP })\n",
        "NGPIGP"
      ]
    },
    {
      "cell_type": "markdown",
      "id": "e638c450",
      "metadata": {
        "id": "e638c450"
      },
      "source": [
        "Probability Distribution for each player to win both the matches (WW):"
      ]
    },
    {
      "cell_type": "code",
      "execution_count": null,
      "id": "c1c799d3",
      "metadata": {
        "id": "c1c799d3",
        "outputId": "1b0aca39-f9c0-469e-a24b-9288e3832660"
      },
      "outputs": [
        {
          "data": {
            "text/plain": [
              "{'MVMV': 0.3216972232135693,\n",
              " 'CLCL': 0.1553943578975325,\n",
              " 'SPSP': 0.15278273451354363,\n",
              " 'GRGR': 0.1140067669817767,\n",
              " 'CSCS': 0.11288631415284081,\n",
              " 'LHLH': 0.07995330063271001,\n",
              " 'LNLN': 0.027665501949034603,\n",
              " 'EOEO': 0.012051092648999477,\n",
              " 'FAFA': 0.009630361228458948,\n",
              " 'VBVB': 0.005854020212415724,\n",
              " 'DRDR': 0.0023266687139138105,\n",
              " 'SVSV': 0.0015935329122643933,\n",
              " 'PGPG': 0.001463505053103931,\n",
              " 'KMKM': 0.0013390102943332748,\n",
              " 'LSLS': 0.00046754698293868487,\n",
              " 'MSMS': 0.0003983832280660983,\n",
              " 'YTYT': 0.0003347525735833187,\n",
              " 'ZGZG': 9.959580701652458e-05,\n",
              " 'AAAA': 4.4264803118455374e-05,\n",
              " 'NVNV': 1.1066200779613844e-05,\n",
              " 'NLNL': 0.0,\n",
              " 'NHNH': 0.0}"
            ]
          },
          "execution_count": 82,
          "metadata": {},
          "output_type": "execute_result"
        }
      ],
      "source": [
        "WW = ProbDist({o:NGPIGP[o] for o in NGPIGP if o[0] + o[1] == o[2] + o[3]})\n",
        "WW"
      ]
    },
    {
      "cell_type": "markdown",
      "id": "9d42f4dd",
      "metadata": {
        "id": "9d42f4dd"
      },
      "source": [
        "    Since there are 2 players in each team, the probability of RedBull winning one race is the probability of MV winning + probability of SP winning."
      ]
    },
    {
      "cell_type": "code",
      "execution_count": null,
      "id": "b7e53e83",
      "metadata": {
        "id": "b7e53e83"
      },
      "outputs": [],
      "source": [
        "def RedBullWins(outcome) : return outcome == 'MV' or outcome == 'SP'"
      ]
    },
    {
      "cell_type": "markdown",
      "id": "5c800935",
      "metadata": {
        "id": "5c800935"
      },
      "source": [
        "    Probability of RedBull winning both races : RedBullWins first race and RedBullWins second race."
      ]
    },
    {
      "cell_type": "code",
      "execution_count": null,
      "id": "8089db84",
      "metadata": {
        "id": "8089db84",
        "outputId": "b8e318bd-b768-4940-c5b0-ac168467c297"
      },
      "outputs": [
        {
          "data": {
            "text/plain": [
              "0.10183347273271386"
            ]
          },
          "execution_count": 84,
          "metadata": {},
          "output_type": "execute_result"
        }
      ],
      "source": [
        "RedBullWinsBothRaces = p(RedBullWins, NGP)*p(RedBullWins, IGP)\n",
        "RedBullWinsBothRaces"
      ]
    },
    {
      "cell_type": "markdown",
      "id": "2820fcf7",
      "metadata": {
        "id": "2820fcf7"
      },
      "source": [
        "    Probability of RedBull not winning a race = 1 - Probability of RedBull winning the race\n",
        "    For RedBull to win at least one of the races, we can find the probability of 1 - RedBull winning none of the races."
      ]
    },
    {
      "cell_type": "code",
      "execution_count": null,
      "id": "bba0aeda",
      "metadata": {
        "id": "bba0aeda",
        "outputId": "f688a52c-26fe-4c59-9dfb-cb7a4f152ea1"
      },
      "outputs": [
        {
          "data": {
            "text/plain": [
              "0.5363936740816906"
            ]
          },
          "execution_count": 85,
          "metadata": {},
          "output_type": "execute_result"
        }
      ],
      "source": [
        "RedBullWinsAtLeastOne = 1 - (1 - p(RedBullWins, NGP))**2\n",
        "RedBullWinsAtLeastOne"
      ]
    },
    {
      "cell_type": "markdown",
      "id": "c2e66e48",
      "metadata": {
        "id": "c2e66e48"
      },
      "source": [
        "ANSWER 2 :"
      ]
    },
    {
      "cell_type": "markdown",
      "id": "1fc27bda",
      "metadata": {
        "id": "1fc27bda"
      },
      "source": [
        "    RedBull wins first race, probability that RedBull wins the second race.\n",
        "    The sample space will be the cases when RedBull wins the first race, and the event is the cases where redbull wins both the races. So the probability will be = probability of redbull winning both the races / probability of redbull winning the first race."
      ]
    },
    {
      "cell_type": "code",
      "execution_count": null,
      "id": "b8773033",
      "metadata": {
        "id": "b8773033",
        "outputId": "f7493d3c-cc8a-451e-99e1-9c7bcd779296"
      },
      "outputs": [
        {
          "data": {
            "text/plain": [
              "0.31911357340720226"
            ]
          },
          "execution_count": 86,
          "metadata": {},
          "output_type": "execute_result"
        }
      ],
      "source": [
        "RedBullWinsSecondGivenFirst = RedBullWinsBothRaces / p(RedBullWins, NGP)\n",
        "RedBullWinsSecondGivenFirst"
      ]
    },
    {
      "cell_type": "markdown",
      "id": "d5231a74",
      "metadata": {
        "id": "d5231a74"
      },
      "source": [
        "    If Red Bull wins at least one of these two races, what is the probability Red Bull wins both races."
      ]
    },
    {
      "cell_type": "code",
      "execution_count": null,
      "id": "3d20dda6",
      "metadata": {
        "id": "3d20dda6",
        "outputId": "97ae0242-89b5-4177-9579-14d69eff1d80"
      },
      "outputs": [
        {
          "data": {
            "text/plain": [
              "0.18984838497033624"
            ]
          },
          "execution_count": 87,
          "metadata": {},
          "output_type": "execute_result"
        }
      ],
      "source": [
        "RedBullWinsBothGivenAtLeastOne = RedBullWinsBothRaces / RedBullWinsAtLeastOne\n",
        "RedBullWinsBothGivenAtLeastOne"
      ]
    },
    {
      "cell_type": "markdown",
      "id": "7cf4f0e5",
      "metadata": {
        "id": "7cf4f0e5"
      },
      "source": [
        "Now, using the predicates to solve the above question :\n"
      ]
    },
    {
      "cell_type": "code",
      "execution_count": null,
      "id": "6352d342",
      "metadata": {
        "id": "6352d342",
        "outputId": "91db3424-d2d3-4e85-9e78-d8e852b59bac"
      },
      "outputs": [
        {
          "data": {
            "text/plain": [
              "0.31911357340720226"
            ]
          },
          "execution_count": 89,
          "metadata": {},
          "output_type": "execute_result"
        }
      ],
      "source": [
        "def RedBullWinsFirst(outcome) : return outcome[:2] == 'MV' or outcome[:2] == 'SP'\n",
        "def RedBullWinsSecond(outcome) : return outcome[2:] == 'MV' or outcome[2:] == 'SP'\n",
        "RedBullWinsSecondGivenFirstWin = p(RedBullWinsSecond, such_that(RedBullWinsFirst, NGPIGP))\n",
        "RedBullWinsSecondGivenFirstWin"
      ]
    },
    {
      "cell_type": "code",
      "execution_count": null,
      "id": "75079a09",
      "metadata": {
        "id": "75079a09",
        "outputId": "68751451-4e70-4838-c193-35a07ae4ae19"
      },
      "outputs": [
        {
          "data": {
            "text/plain": [
              "0.18984838497033615"
            ]
          },
          "execution_count": 99,
          "metadata": {},
          "output_type": "execute_result"
        }
      ],
      "source": [
        "def RedBullWinsAtLeastOne(outcome) : return outcome[:2] == 'MV' or outcome[:2] == 'SP' or outcome[2:] == 'MV' or outcome[2:] == 'SP'\n",
        "def RedBullWinsBoth(outcome) : return (outcome[:2] == 'MV' or outcome[:2] == 'SP') and (outcome[2:] == 'MV' or outcome[2:] == 'SP')\n",
        "RedBullWinsBothGivenAtLeastOneWin = p(RedBullWinsBoth, such_that(RedBullWinsAtLeastOne, NGPIGP))\n",
        "RedBullWinsBothGivenAtLeastOneWin"
      ]
    },
    {
      "cell_type": "markdown",
      "id": "17e253e4",
      "metadata": {
        "id": "17e253e4"
      },
      "source": [
        "For Ferrari"
      ]
    },
    {
      "cell_type": "code",
      "execution_count": null,
      "id": "88aa57be",
      "metadata": {
        "id": "88aa57be",
        "outputId": "61675214-35d6-4df5-c124-ec08e35260a2"
      },
      "outputs": [
        {
          "data": {
            "text/plain": [
              "0.24321329639889197"
            ]
          },
          "execution_count": 100,
          "metadata": {},
          "output_type": "execute_result"
        }
      ],
      "source": [
        "def FerrariWinsFirst(outcome) : return outcome[:2] == 'CL' or outcome[:2] == 'CS'\n",
        "def FerrariWinsSecond(outcome) : return outcome[2:] == 'CL' or outcome[2:] == 'CS'\n",
        "FerrariWinsSecondGivenFirstWin = p(FerrariWinsSecond, such_that(FerrariWinsFirst, NGPIGP))\n",
        "FerrariWinsSecondGivenFirstWin"
      ]
    },
    {
      "cell_type": "code",
      "execution_count": null,
      "id": "5a95806b",
      "metadata": {
        "id": "5a95806b",
        "outputId": "7c6fc154-a113-4235-e1d6-a43b4be3eaee"
      },
      "outputs": [
        {
          "data": {
            "text/plain": [
              "0.13844213181961526"
            ]
          },
          "execution_count": 101,
          "metadata": {},
          "output_type": "execute_result"
        }
      ],
      "source": [
        "def FerrariWinsAtLeastOne(outcome) : return outcome[:2] == 'CL' or outcome[:2] == 'CS' or outcome[2:] == 'CL' or outcome[2:] == 'CS'\n",
        "def FerrariWinsBoth(outcome) : return (outcome[:2] == 'CL' or outcome[:2] == 'CS') and (outcome[2:] == 'CL' or outcome[2:] == 'CS')\n",
        "FerrariWinsBothGivenAtLeastOneWin = p(FerrariWinsBoth, such_that(FerrariWinsAtLeastOne, NGPIGP))\n",
        "FerrariWinsBothGivenAtLeastOneWin"
      ]
    },
    {
      "cell_type": "markdown",
      "id": "86ff291b",
      "metadata": {
        "id": "86ff291b"
      },
      "source": [
        "For Mercedes"
      ]
    },
    {
      "cell_type": "code",
      "execution_count": null,
      "id": "713a64ab",
      "metadata": {
        "id": "713a64ab",
        "outputId": "1edf4a9c-cfb3-4b7d-8482-158e52e7747b"
      },
      "outputs": [
        {
          "data": {
            "text/plain": [
              "0.2066481994459834"
            ]
          },
          "execution_count": 102,
          "metadata": {},
          "output_type": "execute_result"
        }
      ],
      "source": [
        "def MercedesWinsFirst(outcome) : return outcome[:2] == 'LH' or outcome[:2] == 'GR'\n",
        "def MercedesWinsSecond(outcome) : return outcome[2:] == 'LH' or outcome[2:] == 'GR'\n",
        "MercedesWinsSecondGivenFirstWin = p(MercedesWinsSecond, such_that(MercedesWinsFirst, NGPIGP))\n",
        "MercedesWinsSecondGivenFirstWin"
      ]
    },
    {
      "cell_type": "code",
      "execution_count": null,
      "id": "93edff4b",
      "metadata": {
        "id": "93edff4b",
        "outputId": "c48d1cf5-25b3-4eb0-b561-cf99c3b244a1"
      },
      "outputs": [
        {
          "data": {
            "text/plain": [
              "0.11523015137472958"
            ]
          },
          "execution_count": 105,
          "metadata": {},
          "output_type": "execute_result"
        }
      ],
      "source": [
        "def MercedesWinsAtLeastOne(outcome) : return outcome[:2] == 'LH' or outcome[:2] == 'GR' or outcome[2:] == 'LH' or outcome[2:] == 'GR'\n",
        "def MercedesWinsBoth(outcome) : return (outcome[:2] == 'LH' or outcome[:2] == 'GR') and (outcome[2:] == 'LH' or outcome[2:] == 'GR')\n",
        "MercedesWinsBothGivenAtLeastOneWin = p(MercedesWinsBoth, such_that(MercedesWinsAtLeastOne, NGPIGP))\n",
        "MercedesWinsBothGivenAtLeastOneWin"
      ]
    },
    {
      "cell_type": "markdown",
      "id": "1d58dde6",
      "metadata": {
        "id": "1d58dde6"
      },
      "source": [
        "For Alpine Renault"
      ]
    },
    {
      "cell_type": "code",
      "execution_count": null,
      "id": "f509b23e",
      "metadata": {
        "id": "f509b23e",
        "outputId": "be09d396-372a-412d-edfd-83c7531c9ef9"
      },
      "outputs": [
        {
          "data": {
            "text/plain": [
              "0.06925207756232689"
            ]
          },
          "execution_count": 106,
          "metadata": {},
          "output_type": "execute_result"
        }
      ],
      "source": [
        "def ARWinsFirst(outcome) : return outcome[:2] == 'EO' or outcome[:2] == 'FA'\n",
        "def ARWinsSecond(outcome) : return outcome[2:] == 'EO' or outcome[2:] == 'FA'\n",
        "ARWinsSecondGivenFirstWin = p(ARWinsSecond, such_that(ARWinsFirst, NGPIGP))\n",
        "ARWinsSecondGivenFirstWin"
      ]
    },
    {
      "cell_type": "code",
      "execution_count": null,
      "id": "247783ad",
      "metadata": {
        "id": "247783ad",
        "outputId": "c1a149de-1b23-4356-8a5b-fddfb54761c5"
      },
      "outputs": [
        {
          "data": {
            "text/plain": [
              "0.035868005738880916"
            ]
          },
          "execution_count": 107,
          "metadata": {},
          "output_type": "execute_result"
        }
      ],
      "source": [
        "def ARWinsAtLeastOne(outcome) : return outcome[:2] == 'EO' or outcome[:2] == 'FA' or outcome[2:] == 'EO' or outcome[2:] == 'FA'\n",
        "def ARWinsBoth(outcome) : return (outcome[:2] == 'EO' or outcome[:2] == 'FA') and (outcome[2:] == 'EO' or outcome[2:] == 'FA')\n",
        "ARWinsBothGivenAtLeastOneWin = p(ARWinsBoth, such_that(ARWinsAtLeastOne, NGPIGP))\n",
        "ARWinsBothGivenAtLeastOneWin"
      ]
    },
    {
      "cell_type": "markdown",
      "id": "38678c59",
      "metadata": {
        "id": "38678c59"
      },
      "source": [
        "ANSWER 3 :\n"
      ]
    },
    {
      "cell_type": "code",
      "execution_count": null,
      "id": "0963ec53",
      "metadata": {
        "id": "0963ec53",
        "outputId": "0a27bdc5-176e-4279-ace1-105448936667"
      },
      "outputs": [
        {
          "data": {
            "text/plain": [
              "{'RA': 0.2, 'SU': 0.2, 'CL': 0.2, 'SN': 0.2, 'FO': 0.2}"
            ]
          },
          "execution_count": 7,
          "metadata": {},
          "output_type": "execute_result"
        }
      ],
      "source": [
        "W = ProbDist(\n",
        "    RA = 0.2,\n",
        "    SU = 0.2,\n",
        "    CL = 0.2,\n",
        "    SN = 0.2,\n",
        "    FO = 0.2\n",
        "    )\n",
        "W"
      ]
    },
    {
      "cell_type": "code",
      "execution_count": null,
      "id": "8351821b",
      "metadata": {
        "id": "8351821b",
        "outputId": "3faabc04-c757-4463-e628-9e0d18dedca9"
      },
      "outputs": [
        {
          "name": "stdout",
          "output_type": "stream",
          "text": [
            "12100\n"
          ]
        }
      ],
      "source": [
        "NGPIGPW = ProbDist({a + b + c + d: NGP[a]*W[b]*IGP[c]*W[d] for a in NGP for b in W for c in IGP for d in W})\n",
        "print(len(NGPIGPW))"
      ]
    },
    {
      "cell_type": "markdown",
      "id": "2a06bee7",
      "metadata": {
        "id": "2a06bee7"
      },
      "source": [
        "Sample Space when Redbull wins at least one match during rains"
      ]
    },
    {
      "cell_type": "code",
      "execution_count": null,
      "id": "d8ff1391",
      "metadata": {
        "id": "d8ff1391",
        "outputId": "6a754a2d-8f01-4b58-dca0-b5f3eb4bfa96"
      },
      "outputs": [
        {
          "data": {
            "text/plain": [
              "0.27166780725013684"
            ]
          },
          "execution_count": 21,
          "metadata": {},
          "output_type": "execute_result"
        }
      ],
      "source": [
        "def RedBullWinsOnRainyDay(outcome): return outcome[:4] == 'MVRA' or outcome[:4] == 'SPRA' or outcome[4:] == 'MVRA' or outcome[4:] == 'SPRA'\n",
        "def RedBullWinsBothRaces(outcome): return (outcome[:2] == 'MV' or outcome[:2] == 'SP') and (outcome[4:6] == 'MV' or outcome[4:6] == 'SP')\n",
        "\n",
        "# there is repetion of cases with outcome 'MVRASPRA', 'MVRAMVRA', 'SPRASPRA' and 'SPRAMVRA'\n",
        "repeated = such_that(RedBullWinsOnRainyDay, NGPIGPW)\n",
        "diff = repeated['MVRASPRA'] + repeated['MVRAMVRA'] + repeated['SPRASPRA'] + repeated['SPRAMVRA']\n",
        "# print(repeated)\n",
        "\n",
        "# remove the diff cases probability\n",
        "RedBullWinsGivenRainyCondition = p(RedBullWinsBothRaces, such_that(RedBullWinsOnRainyDay, NGPIGPW)) - diff\n",
        "RedBullWinsGivenRainyCondition"
      ]
    },
    {
      "cell_type": "markdown",
      "id": "2e3d0454",
      "metadata": {
        "id": "2e3d0454"
      },
      "source": [
        "ANSWER 4 :\n",
        "\n",
        "    Lets create a set of all the 100 events and a set of number of drivers that could be present in an event(0 to 100)\n"
      ]
    },
    {
      "cell_type": "code",
      "execution_count": null,
      "id": "354a4b2c",
      "metadata": {
        "id": "354a4b2c"
      },
      "outputs": [],
      "source": [
        "Events = {'E' + str(i) for i in range(1,101)} #1-100\n",
        "Drivers = {'D' + str(i) for i in range(101)} #0,100 E1D1 E1D3 E1D2\n",
        "#this event covers no drivers and multiple drivers"
      ]
    },
    {
      "cell_type": "markdown",
      "id": "5d8218ee",
      "metadata": {
        "id": "5d8218ee"
      },
      "source": [
        "Now, the sample space for each event having each number of driver will be :"
      ]
    },
    {
      "cell_type": "code",
      "execution_count": null,
      "id": "4404b276",
      "metadata": {
        "id": "4404b276",
        "outputId": "b0538e52-fef9-4aa1-8510-9de469b61f31"
      },
      "outputs": [
        {
          "name": "stdout",
          "output_type": "stream",
          "text": [
            "{'E4D3', 'E3D2', 'E3D0', 'E3D4', 'E4D1', 'E4D4', 'E2D3', 'E1D1', 'E3D1', 'E1D3', 'E1D0', 'E2D4', 'E1D4', 'E2D0', 'E2D2', 'E1D2', 'E4D2', 'E2D1', 'E4D0', 'E3D3'}\n"
          ]
        },
        {
          "data": {
            "text/plain": [
              "20"
            ]
          },
          "execution_count": 2,
          "metadata": {},
          "output_type": "execute_result"
        }
      ],
      "source": [
        "TotalCases = {a + b for a in Events for b in Drivers}\n",
        "print(TotalCases) # 'E46D22', 'E12D90', 'E85D24', 'E49D4', 'E18D65'\n",
        "len(TotalCases)"
      ]
    },
    {
      "cell_type": "markdown",
      "id": "4769fa93",
      "metadata": {
        "id": "4769fa93"
      },
      "source": [
        "    Probability of finding my favourite driver in the event that I attended :\n",
        ""
      ]
    },
    {
      "cell_type": "code",
      "execution_count": null,
      "id": "0a0d25a8",
      "metadata": {
        "id": "0a0d25a8"
      },
      "outputs": [],
      "source": [
        "def FavDriverProbability(Event): return p( lambda x:x.startswith('E' + Event) and x.endswith('D1'), TotalCases)"
      ]
    },
    {
      "cell_type": "code",
      "execution_count": null,
      "id": "791cb308",
      "metadata": {
        "id": "791cb308",
        "outputId": "eae9794d-499b-4e75-afe0-2f1690e04a23"
      },
      "outputs": [
        {
          "data": {
            "text/plain": [
              "Fraction(1, 10100)"
            ]
          },
          "execution_count": 133,
          "metadata": {},
          "output_type": "execute_result"
        }
      ],
      "source": [
        "ProbabilityOfFindingFavoriteDriver = FavDriverProbability('41')\n",
        "ProbabilityOfFindingFavoriteDriver"
      ]
    },
    {
      "cell_type": "markdown",
      "id": "dc02342f",
      "metadata": {
        "id": "dc02342f"
      },
      "source": [
        "Probability of finding a Formula driver : 1 - Probability of finding no driver at the event"
      ]
    },
    {
      "cell_type": "code",
      "execution_count": null,
      "id": "d599cc98",
      "metadata": {
        "id": "d599cc98"
      },
      "outputs": [],
      "source": [
        "def NoDriver(outcome) : return outcome.endswith('D0')"
      ]
    },
    {
      "cell_type": "code",
      "execution_count": null,
      "id": "a0089c44",
      "metadata": {
        "id": "a0089c44"
      },
      "outputs": [],
      "source": [
        "NoDriverProbability = p(NoDriver, TotalCases)"
      ]
    },
    {
      "cell_type": "code",
      "execution_count": null,
      "id": "b97f1588",
      "metadata": {
        "id": "b97f1588",
        "outputId": "589122bf-93e0-4905-a090-e71126a72b1c"
      },
      "outputs": [
        {
          "data": {
            "text/plain": [
              "Fraction(100, 101)"
            ]
          },
          "execution_count": 136,
          "metadata": {},
          "output_type": "execute_result"
        }
      ],
      "source": [
        "OneDriverProbability = 1 - NoDriverProbability\n",
        "OneDriverProbability"
      ]
    },
    {
      "cell_type": "markdown",
      "id": "a9452562",
      "metadata": {
        "id": "a9452562"
      },
      "source": [
        "As we saw in the above calculation that probability of finding a F1 driver is very high (99%) in one event, so the number of shows one has to attend in order to get 50% chance of meeting a F1 driver is 1."
      ]
    },
    {
      "cell_type": "code",
      "execution_count": null,
      "id": "6d0de536",
      "metadata": {
        "id": "6d0de536"
      },
      "outputs": [],
      "source": []
    }
  ],
  "metadata": {
    "kernelspec": {
      "display_name": "Python 3 (ipykernel)",
      "language": "python",
      "name": "python3"
    },
    "language_info": {
      "codemirror_mode": {
        "name": "ipython",
        "version": 3
      },
      "file_extension": ".py",
      "mimetype": "text/x-python",
      "name": "python",
      "nbconvert_exporter": "python",
      "pygments_lexer": "ipython3",
      "version": "3.9.13"
    },
    "colab": {
      "provenance": []
    }
  },
  "nbformat": 4,
  "nbformat_minor": 5
}